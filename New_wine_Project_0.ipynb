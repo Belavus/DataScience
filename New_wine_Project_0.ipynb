{
 "cells": [
  {
   "cell_type": "markdown",
   "id": "d86eacb5",
   "metadata": {},
   "source": [
    "# Libraries"
   ]
  },
  {
   "cell_type": "code",
   "execution_count": 1,
   "id": "fad229e1",
   "metadata": {},
   "outputs": [],
   "source": [
    "import numpy as np\n",
    "import pandas as pd\n",
    "\n",
    "import matplotlib.pyplot as plt\n",
    "import seaborn as sns\n",
    "%matplotlib inline\n",
    "\n",
    "#scaling:\n",
    "from sklearn.preprocessing import LabelEncoder, StandardScaler, MinMaxScaler\n",
    "\n",
    "from sklearn.model_selection import train_test_split\n",
    "\n",
    "# --------Linear Regression\n",
    "from sklearn.linear_model import LinearRegression\n",
    "# --------  metrics:\n",
    "from sklearn import metrics\n",
    "from sklearn.metrics import accuracy_score, precision_score, recall_score, f1_score, confusion_matrix\n",
    "from sklearn.metrics import make_scorer\n",
    "#---------encoder:\n",
    "from sklearn.preprocessing import LabelEncoder\n",
    "#---------Text:\n",
    "import re"
   ]
  },
  {
   "cell_type": "markdown",
   "id": "b7d4893e",
   "metadata": {},
   "source": [
    "## My Functions:"
   ]
  },
  {
   "cell_type": "markdown",
   "id": "e248eaca",
   "metadata": {},
   "source": [
    "#### Data preparation functions:"
   ]
  },
  {
   "cell_type": "code",
   "execution_count": 2,
   "id": "16c18675",
   "metadata": {},
   "outputs": [],
   "source": [
    "def encode_categorical(df, columns_to_encode=None):\n",
    "    labelencoder=LabelEncoder()\n",
    "    if columns_to_encode == None:\n",
    "        for col in df.select_dtypes(exclude='number').columns:\n",
    "            df[col] = labelencoder.fit_transform(df[col]).copy()\n",
    "    else:\n",
    "        for col in columns_to_encode:\n",
    "            df[col] = labelencoder.fit_transform(df[col]).copy()\n",
    "    return df\n"
   ]
  },
  {
   "cell_type": "code",
   "execution_count": 30,
   "id": "248f0db1",
   "metadata": {},
   "outputs": [],
   "source": [
    "def scale(df, scaler_kind=None, cols_to_scale=None):\n",
    "    if scaler_kind == 'StandardScaler':\n",
    "        if cols_to_scale == None:\n",
    "            for col in df.columns:\n",
    "                df[col] = StandardScaler().fit_transform(np.array(df[col]).reshape(-1,1))\n",
    "        else:\n",
    "            for col in cols_to_scale:\n",
    "                df[col] = StandardScaler().fit_transform(np.array(df[col]).reshape(-1,1))\n",
    "    elif scaler_kind == 'MinMaxScaler':\n",
    "        if cols_to_scale == None:\n",
    "            for col in df.columns:\n",
    "                df[col] = MinMaxScaler().fit_transform(np.array(df[col]).reshape(-1,1))\n",
    "        else:\n",
    "            for col in cols_to_scale:\n",
    "                df[col] = MinMaxScaler().fit_transform(np.array(df[col]).reshape(-1,1))\n",
    "    else:\n",
    "        print(\"scaler_kind is missing!!!\")\n",
    "    return df"
   ]
  },
  {
   "cell_type": "markdown",
   "id": "9d3179ae",
   "metadata": {},
   "source": [
    "   #### prediction functions:"
   ]
  },
  {
   "cell_type": "code",
   "execution_count": 3,
   "id": "f3b320e8",
   "metadata": {},
   "outputs": [],
   "source": [
    "def train_linear_model(X_train, y_train):\n",
    "    trained_model = linear_model.LinearRegression().fit(X_train, y_train)\n",
    "    return trained_model"
   ]
  },
  {
   "cell_type": "code",
   "execution_count": 4,
   "id": "1c92aa3d",
   "metadata": {},
   "outputs": [],
   "source": [
    "def predict_linear(trained_1st_model, X_test):\n",
    "    predicted_vals = trained_1st_model.predict(X_test)\n",
    "    return predicted_vals"
   ]
  },
  {
   "cell_type": "code",
   "execution_count": 5,
   "id": "2e8d1b44",
   "metadata": {},
   "outputs": [],
   "source": [
    "def evaluate_performance_linear(y_test,y_predicted):\n",
    "    evaluate_value = r2_score(y_test,y_predicted)\n",
    "    return evaluate_value"
   ]
  },
  {
   "cell_type": "code",
   "execution_count": null,
   "id": "01e36e60",
   "metadata": {},
   "outputs": [],
   "source": []
  },
  {
   "cell_type": "markdown",
   "id": "3845bb40",
   "metadata": {},
   "source": [
    "# Data Import"
   ]
  },
  {
   "cell_type": "code",
   "execution_count": 6,
   "id": "1d155b8c",
   "metadata": {
    "scrolled": true
   },
   "outputs": [
    {
     "data": {
      "text/html": [
       "<div>\n",
       "<style scoped>\n",
       "    .dataframe tbody tr th:only-of-type {\n",
       "        vertical-align: middle;\n",
       "    }\n",
       "\n",
       "    .dataframe tbody tr th {\n",
       "        vertical-align: top;\n",
       "    }\n",
       "\n",
       "    .dataframe thead th {\n",
       "        text-align: right;\n",
       "    }\n",
       "</style>\n",
       "<table border=\"1\" class=\"dataframe\">\n",
       "  <thead>\n",
       "    <tr style=\"text-align: right;\">\n",
       "      <th></th>\n",
       "      <th>Name</th>\n",
       "      <th>Price</th>\n",
       "      <th>Grape Sort</th>\n",
       "      <th>Place</th>\n",
       "      <th>Avg Rating</th>\n",
       "      <th>Ratings</th>\n",
       "      <th>Product Volume</th>\n",
       "      <th>Alcohol %</th>\n",
       "      <th>Wine link</th>\n",
       "      <th>Winemaker Notes</th>\n",
       "      <th>Critical Acclaim</th>\n",
       "      <th>Num of Critics</th>\n",
       "      <th>Avg. Critics rating</th>\n",
       "      <th>Wine Kind</th>\n",
       "    </tr>\n",
       "  </thead>\n",
       "  <tbody>\n",
       "    <tr>\n",
       "      <th>0</th>\n",
       "      <td>Chateau de Landiras 2018</td>\n",
       "      <td>19.98</td>\n",
       "      <td>Bordeaux Red Blends</td>\n",
       "      <td>Graves, Bordeaux, France</td>\n",
       "      <td>3.7</td>\n",
       "      <td>227.0</td>\n",
       "      <td>750.0</td>\n",
       "      <td>13.0</td>\n",
       "      <td>https://www.wine.com/product/chateau-de-landir...</td>\n",
       "      <td>Blend: 75% Merlot, 25% Cabernet Sauvignon</td>\n",
       "      <td>Grand generosity, showcasing deep, vigorous da...</td>\n",
       "      <td>1.0</td>\n",
       "      <td>95.0</td>\n",
       "      <td>red</td>\n",
       "    </tr>\n",
       "    <tr>\n",
       "      <th>1</th>\n",
       "      <td>Livio Sassetti Brunello di Montalcino Pertimal...</td>\n",
       "      <td>89.99</td>\n",
       "      <td>Sangiovese</td>\n",
       "      <td>Montalcino, Tuscany, Italy</td>\n",
       "      <td>3.6</td>\n",
       "      <td>7.0</td>\n",
       "      <td>750.0</td>\n",
       "      <td>0.0</td>\n",
       "      <td>https://www.wine.com/product/livio-sassetti-br...</td>\n",
       "      <td>Intense ruby red with fruit aromas ripe red wi...</td>\n",
       "      <td>Blackberries, black walnuts and black cherries...</td>\n",
       "      <td>5.0</td>\n",
       "      <td>96.6</td>\n",
       "      <td>red</td>\n",
       "    </tr>\n",
       "    <tr>\n",
       "      <th>2</th>\n",
       "      <td>Silver Oak Alexander Valley Cabernet Sauvignon...</td>\n",
       "      <td>89.99</td>\n",
       "      <td>Cabernet Sauvignon</td>\n",
       "      <td>Alexander Valley, Sonoma County, California</td>\n",
       "      <td>4.4</td>\n",
       "      <td>196.0</td>\n",
       "      <td>750.0</td>\n",
       "      <td>14.2</td>\n",
       "      <td>https://www.wine.com/product/silver-oak-alexan...</td>\n",
       "      <td>The 2017 Alexander Valley Cabernet Sauvignon i...</td>\n",
       "      <td>COMMENTARY: The 2017 Silver Oak Alexander Vall...</td>\n",
       "      <td>1.0</td>\n",
       "      <td>93.0</td>\n",
       "      <td>red</td>\n",
       "    </tr>\n",
       "    <tr>\n",
       "      <th>3</th>\n",
       "      <td>Duckhorn Napa Valley Cabernet Sauvignon 2019</td>\n",
       "      <td>69.99</td>\n",
       "      <td>Cabernet Sauvignon</td>\n",
       "      <td>Napa Valley, California</td>\n",
       "      <td>4.1</td>\n",
       "      <td>18.0</td>\n",
       "      <td>750.0</td>\n",
       "      <td>14.5</td>\n",
       "      <td>https://www.wine.com/product/duckhorn-napa-val...</td>\n",
       "      <td>Beautifully rich and complex, this wine offers...</td>\n",
       "      <td>COMMENTARY: The 2019 Duckhorn Vineyards Cabern...</td>\n",
       "      <td>1.0</td>\n",
       "      <td>92.0</td>\n",
       "      <td>red</td>\n",
       "    </tr>\n",
       "    <tr>\n",
       "      <th>4</th>\n",
       "      <td>Beaulieu Vineyard Georges de Latour Private Re...</td>\n",
       "      <td>129.99</td>\n",
       "      <td>Cabernet Sauvignon</td>\n",
       "      <td>Napa Valley, California</td>\n",
       "      <td>4.3</td>\n",
       "      <td>30.0</td>\n",
       "      <td>750.0</td>\n",
       "      <td>14.5</td>\n",
       "      <td>https://www.wine.com/product/beaulieu-vineyard...</td>\n",
       "      <td>The 2018 Georges de Latour Private Reserve Cab...</td>\n",
       "      <td>Blackberry, blackcurrant and mint with some sa...</td>\n",
       "      <td>5.0</td>\n",
       "      <td>97.2</td>\n",
       "      <td>red</td>\n",
       "    </tr>\n",
       "  </tbody>\n",
       "</table>\n",
       "</div>"
      ],
      "text/plain": [
       "                                                Name   Price  \\\n",
       "0                           Chateau de Landiras 2018   19.98   \n",
       "1  Livio Sassetti Brunello di Montalcino Pertimal...   89.99   \n",
       "2  Silver Oak Alexander Valley Cabernet Sauvignon...   89.99   \n",
       "3       Duckhorn Napa Valley Cabernet Sauvignon 2019   69.99   \n",
       "4  Beaulieu Vineyard Georges de Latour Private Re...  129.99   \n",
       "\n",
       "            Grape Sort                                        Place  \\\n",
       "0  Bordeaux Red Blends                     Graves, Bordeaux, France   \n",
       "1           Sangiovese                   Montalcino, Tuscany, Italy   \n",
       "2   Cabernet Sauvignon  Alexander Valley, Sonoma County, California   \n",
       "3   Cabernet Sauvignon                      Napa Valley, California   \n",
       "4   Cabernet Sauvignon                      Napa Valley, California   \n",
       "\n",
       "   Avg Rating  Ratings  Product Volume  Alcohol %  \\\n",
       "0         3.7    227.0           750.0       13.0   \n",
       "1         3.6      7.0           750.0        0.0   \n",
       "2         4.4    196.0           750.0       14.2   \n",
       "3         4.1     18.0           750.0       14.5   \n",
       "4         4.3     30.0           750.0       14.5   \n",
       "\n",
       "                                           Wine link  \\\n",
       "0  https://www.wine.com/product/chateau-de-landir...   \n",
       "1  https://www.wine.com/product/livio-sassetti-br...   \n",
       "2  https://www.wine.com/product/silver-oak-alexan...   \n",
       "3  https://www.wine.com/product/duckhorn-napa-val...   \n",
       "4  https://www.wine.com/product/beaulieu-vineyard...   \n",
       "\n",
       "                                     Winemaker Notes  \\\n",
       "0          Blend: 75% Merlot, 25% Cabernet Sauvignon   \n",
       "1  Intense ruby red with fruit aromas ripe red wi...   \n",
       "2  The 2017 Alexander Valley Cabernet Sauvignon i...   \n",
       "3  Beautifully rich and complex, this wine offers...   \n",
       "4  The 2018 Georges de Latour Private Reserve Cab...   \n",
       "\n",
       "                                    Critical Acclaim  Num of Critics  \\\n",
       "0  Grand generosity, showcasing deep, vigorous da...             1.0   \n",
       "1  Blackberries, black walnuts and black cherries...             5.0   \n",
       "2  COMMENTARY: The 2017 Silver Oak Alexander Vall...             1.0   \n",
       "3  COMMENTARY: The 2019 Duckhorn Vineyards Cabern...             1.0   \n",
       "4  Blackberry, blackcurrant and mint with some sa...             5.0   \n",
       "\n",
       "   Avg. Critics rating Wine Kind  \n",
       "0                 95.0       red  \n",
       "1                 96.6       red  \n",
       "2                 93.0       red  \n",
       "3                 92.0       red  \n",
       "4                 97.2       red  "
      ]
     },
     "execution_count": 6,
     "metadata": {},
     "output_type": "execute_result"
    }
   ],
   "source": [
    "df_org = pd.read_csv(\"New_wine_file.csv\")\n",
    "df_org.head()"
   ]
  },
  {
   "cell_type": "code",
   "execution_count": 7,
   "id": "db55fdbc",
   "metadata": {},
   "outputs": [
    {
     "data": {
      "text/html": [
       "<div>\n",
       "<style scoped>\n",
       "    .dataframe tbody tr th:only-of-type {\n",
       "        vertical-align: middle;\n",
       "    }\n",
       "\n",
       "    .dataframe tbody tr th {\n",
       "        vertical-align: top;\n",
       "    }\n",
       "\n",
       "    .dataframe thead th {\n",
       "        text-align: right;\n",
       "    }\n",
       "</style>\n",
       "<table border=\"1\" class=\"dataframe\">\n",
       "  <thead>\n",
       "    <tr style=\"text-align: right;\">\n",
       "      <th></th>\n",
       "      <th>Price</th>\n",
       "      <th>Avg Rating</th>\n",
       "      <th>Ratings</th>\n",
       "      <th>Product Volume</th>\n",
       "      <th>Alcohol %</th>\n",
       "      <th>Num of Critics</th>\n",
       "      <th>Avg. Critics rating</th>\n",
       "    </tr>\n",
       "  </thead>\n",
       "  <tbody>\n",
       "    <tr>\n",
       "      <th>count</th>\n",
       "      <td>12357.000000</td>\n",
       "      <td>12357.000000</td>\n",
       "      <td>12357.000000</td>\n",
       "      <td>12357.000000</td>\n",
       "      <td>12357.000000</td>\n",
       "      <td>12357.000000</td>\n",
       "      <td>12357.000000</td>\n",
       "    </tr>\n",
       "    <tr>\n",
       "      <th>mean</th>\n",
       "      <td>90.764028</td>\n",
       "      <td>1.411864</td>\n",
       "      <td>14.020474</td>\n",
       "      <td>777.534272</td>\n",
       "      <td>9.011737</td>\n",
       "      <td>1.880715</td>\n",
       "      <td>91.885263</td>\n",
       "    </tr>\n",
       "    <tr>\n",
       "      <th>std</th>\n",
       "      <td>250.925807</td>\n",
       "      <td>1.933965</td>\n",
       "      <td>56.083253</td>\n",
       "      <td>307.045259</td>\n",
       "      <td>6.310796</td>\n",
       "      <td>1.277598</td>\n",
       "      <td>2.200057</td>\n",
       "    </tr>\n",
       "    <tr>\n",
       "      <th>min</th>\n",
       "      <td>3.990000</td>\n",
       "      <td>0.000000</td>\n",
       "      <td>0.000000</td>\n",
       "      <td>0.000000</td>\n",
       "      <td>0.000000</td>\n",
       "      <td>1.000000</td>\n",
       "      <td>56.000000</td>\n",
       "    </tr>\n",
       "    <tr>\n",
       "      <th>25%</th>\n",
       "      <td>19.990000</td>\n",
       "      <td>0.000000</td>\n",
       "      <td>0.000000</td>\n",
       "      <td>750.000000</td>\n",
       "      <td>0.000000</td>\n",
       "      <td>1.000000</td>\n",
       "      <td>90.000000</td>\n",
       "    </tr>\n",
       "    <tr>\n",
       "      <th>50%</th>\n",
       "      <td>35.490000</td>\n",
       "      <td>0.000000</td>\n",
       "      <td>0.000000</td>\n",
       "      <td>750.000000</td>\n",
       "      <td>12.500000</td>\n",
       "      <td>1.000000</td>\n",
       "      <td>91.500000</td>\n",
       "    </tr>\n",
       "    <tr>\n",
       "      <th>75%</th>\n",
       "      <td>77.990000</td>\n",
       "      <td>3.800000</td>\n",
       "      <td>9.000000</td>\n",
       "      <td>750.000000</td>\n",
       "      <td>13.700000</td>\n",
       "      <td>2.000000</td>\n",
       "      <td>93.000000</td>\n",
       "    </tr>\n",
       "    <tr>\n",
       "      <th>max</th>\n",
       "      <td>13999.970000</td>\n",
       "      <td>5.000000</td>\n",
       "      <td>1631.000000</td>\n",
       "      <td>9000.000000</td>\n",
       "      <td>84.000000</td>\n",
       "      <td>10.000000</td>\n",
       "      <td>100.000000</td>\n",
       "    </tr>\n",
       "  </tbody>\n",
       "</table>\n",
       "</div>"
      ],
      "text/plain": [
       "              Price    Avg Rating       Ratings  Product Volume     Alcohol %  \\\n",
       "count  12357.000000  12357.000000  12357.000000    12357.000000  12357.000000   \n",
       "mean      90.764028      1.411864     14.020474      777.534272      9.011737   \n",
       "std      250.925807      1.933965     56.083253      307.045259      6.310796   \n",
       "min        3.990000      0.000000      0.000000        0.000000      0.000000   \n",
       "25%       19.990000      0.000000      0.000000      750.000000      0.000000   \n",
       "50%       35.490000      0.000000      0.000000      750.000000     12.500000   \n",
       "75%       77.990000      3.800000      9.000000      750.000000     13.700000   \n",
       "max    13999.970000      5.000000   1631.000000     9000.000000     84.000000   \n",
       "\n",
       "       Num of Critics  Avg. Critics rating  \n",
       "count    12357.000000         12357.000000  \n",
       "mean         1.880715            91.885263  \n",
       "std          1.277598             2.200057  \n",
       "min          1.000000            56.000000  \n",
       "25%          1.000000            90.000000  \n",
       "50%          1.000000            91.500000  \n",
       "75%          2.000000            93.000000  \n",
       "max         10.000000           100.000000  "
      ]
     },
     "execution_count": 7,
     "metadata": {},
     "output_type": "execute_result"
    }
   ],
   "source": [
    "df_org.describe()"
   ]
  },
  {
   "cell_type": "markdown",
   "id": "b2973461",
   "metadata": {},
   "source": [
    "##  Basic data Exploration and Cleaning"
   ]
  },
  {
   "cell_type": "code",
   "execution_count": 8,
   "id": "65adc876",
   "metadata": {},
   "outputs": [
    {
     "name": "stdout",
     "output_type": "stream",
     "text": [
      "<class 'pandas.core.frame.DataFrame'>\n",
      "RangeIndex: 12360 entries, 0 to 12359\n",
      "Data columns (total 14 columns):\n",
      " #   Column               Non-Null Count  Dtype  \n",
      "---  ------               --------------  -----  \n",
      " 0   Name                 12357 non-null  object \n",
      " 1   Price                12357 non-null  float64\n",
      " 2   Grape Sort           12357 non-null  object \n",
      " 3   Place                12091 non-null  object \n",
      " 4   Avg Rating           12357 non-null  float64\n",
      " 5   Ratings              12357 non-null  float64\n",
      " 6   Product Volume       12357 non-null  float64\n",
      " 7   Alcohol %            12357 non-null  float64\n",
      " 8   Wine link            12357 non-null  object \n",
      " 9   Winemaker Notes      11406 non-null  object \n",
      " 10  Critical Acclaim     11708 non-null  object \n",
      " 11  Num of Critics       12357 non-null  float64\n",
      " 12  Avg. Critics rating  12357 non-null  float64\n",
      " 13  Wine Kind            12357 non-null  object \n",
      "dtypes: float64(7), object(7)\n",
      "memory usage: 1.3+ MB\n"
     ]
    }
   ],
   "source": [
    "df_org.info()"
   ]
  },
  {
   "cell_type": "code",
   "execution_count": 9,
   "id": "4b9b88fe",
   "metadata": {},
   "outputs": [
    {
     "data": {
      "text/plain": [
       "(12360, 14)"
      ]
     },
     "execution_count": 9,
     "metadata": {},
     "output_type": "execute_result"
    }
   ],
   "source": [
    "df_org.shape"
   ]
  },
  {
   "cell_type": "markdown",
   "id": "92d95b1b",
   "metadata": {},
   "source": [
    "### Remove duplicative and missing rows"
   ]
  },
  {
   "cell_type": "code",
   "execution_count": 10,
   "id": "62de7fe7",
   "metadata": {
    "scrolled": true
   },
   "outputs": [
    {
     "data": {
      "text/plain": [
       "543"
      ]
     },
     "execution_count": 10,
     "metadata": {},
     "output_type": "execute_result"
    }
   ],
   "source": [
    "df_org.duplicated().sum()"
   ]
  },
  {
   "cell_type": "code",
   "execution_count": 11,
   "id": "d0ea07d0",
   "metadata": {},
   "outputs": [
    {
     "data": {
      "text/plain": [
       "0"
      ]
     },
     "execution_count": 11,
     "metadata": {},
     "output_type": "execute_result"
    }
   ],
   "source": [
    "df_rem_dup = df_org.drop_duplicates(keep='first').copy()\n",
    "df_rem_dup.dropna(inplace=True)\n",
    "df_rem_dup.reset_index(inplace=True,drop=True)\n",
    "df_rem_dup.duplicated().sum()"
   ]
  },
  {
   "cell_type": "code",
   "execution_count": 12,
   "id": "8ea825b6",
   "metadata": {},
   "outputs": [
    {
     "data": {
      "text/plain": [
       "(10147, 14)"
      ]
     },
     "execution_count": 12,
     "metadata": {},
     "output_type": "execute_result"
    }
   ],
   "source": [
    "df_rem_dup.shape"
   ]
  },
  {
   "cell_type": "markdown",
   "id": "3befa71e",
   "metadata": {},
   "source": [
    "### Extract Year from wine name"
   ]
  },
  {
   "cell_type": "code",
   "execution_count": 13,
   "id": "eaf6fc80",
   "metadata": {},
   "outputs": [],
   "source": [
    "pattern = \"\\d\\d\\d\\d\"\n",
    "df_rem_dup['Year'] = None\n",
    "for row in range(len(df_rem_dup)):\n",
    "    if re.search(pattern,df_rem_dup['Name'][row]) != None:\n",
    "        df_rem_dup.at[row,'Year'] = int(re.search(pattern,df_rem_dup['Name'][row]).group(0))\n",
    "    else:\n",
    "        if re.search(pattern,df_rem_dup['Winemaker Notes'][row]) != None:\n",
    "            df_rem_dup.at[row,'Year'] = int(re.search(pattern,df_rem_dup['Winemaker Notes'][row]).group(0))\n",
    "        else:\n",
    "            df_rem_dup.at[row,'Year'] = np.nan"
   ]
  },
  {
   "cell_type": "markdown",
   "id": "a21b04dd",
   "metadata": {},
   "source": [
    "### Find corrupt and missing values"
   ]
  },
  {
   "cell_type": "code",
   "execution_count": 14,
   "id": "b6fed85a",
   "metadata": {
    "scrolled": false
   },
   "outputs": [
    {
     "name": "stdout",
     "output_type": "stream",
     "text": [
      "<class 'pandas.core.frame.DataFrame'>\n",
      "RangeIndex: 10147 entries, 0 to 10146\n",
      "Data columns (total 15 columns):\n",
      " #   Column               Non-Null Count  Dtype  \n",
      "---  ------               --------------  -----  \n",
      " 0   Name                 10147 non-null  object \n",
      " 1   Price                10147 non-null  float64\n",
      " 2   Grape Sort           10147 non-null  object \n",
      " 3   Place                10147 non-null  object \n",
      " 4   Avg Rating           10147 non-null  float64\n",
      " 5   Ratings              10147 non-null  float64\n",
      " 6   Product Volume       10147 non-null  float64\n",
      " 7   Alcohol %            10147 non-null  float64\n",
      " 8   Wine link            10147 non-null  object \n",
      " 9   Winemaker Notes      10147 non-null  object \n",
      " 10  Critical Acclaim     10147 non-null  object \n",
      " 11  Num of Critics       10147 non-null  float64\n",
      " 12  Avg. Critics rating  10147 non-null  float64\n",
      " 13  Wine Kind            10147 non-null  object \n",
      " 14  Year                 9434 non-null   object \n",
      "dtypes: float64(7), object(8)\n",
      "memory usage: 1.2+ MB\n"
     ]
    }
   ],
   "source": [
    "df_rem_dup.info()"
   ]
  },
  {
   "cell_type": "code",
   "execution_count": 15,
   "id": "f788a8d4",
   "metadata": {
    "scrolled": true
   },
   "outputs": [
    {
     "name": "stdout",
     "output_type": "stream",
     "text": [
      "<class 'pandas.core.frame.DataFrame'>\n",
      "Int64Index: 9434 entries, 0 to 10146\n",
      "Data columns (total 15 columns):\n",
      " #   Column               Non-Null Count  Dtype  \n",
      "---  ------               --------------  -----  \n",
      " 0   Name                 9434 non-null   object \n",
      " 1   Price                9434 non-null   float64\n",
      " 2   Grape Sort           9434 non-null   object \n",
      " 3   Place                9434 non-null   object \n",
      " 4   Avg Rating           9434 non-null   float64\n",
      " 5   Ratings              9434 non-null   float64\n",
      " 6   Product Volume       9434 non-null   float64\n",
      " 7   Alcohol %            9434 non-null   float64\n",
      " 8   Wine link            9434 non-null   object \n",
      " 9   Winemaker Notes      9434 non-null   object \n",
      " 10  Critical Acclaim     9434 non-null   object \n",
      " 11  Num of Critics       9434 non-null   float64\n",
      " 12  Avg. Critics rating  9434 non-null   float64\n",
      " 13  Wine Kind            9434 non-null   object \n",
      " 14  Year                 9434 non-null   object \n",
      "dtypes: float64(7), object(8)\n",
      "memory usage: 1.2+ MB\n"
     ]
    }
   ],
   "source": [
    "df_rem_dup.dropna().info()\n",
    "#df_rem_dup[df_rem_dup['Ratings']==0.0].count()"
   ]
  },
  {
   "cell_type": "markdown",
   "id": "4cad51ca",
   "metadata": {},
   "source": [
    "## Remove not categorical and not numerical columns:"
   ]
  },
  {
   "cell_type": "code",
   "execution_count": 16,
   "id": "c09f4e87",
   "metadata": {
    "scrolled": true
   },
   "outputs": [
    {
     "data": {
      "text/html": [
       "<div>\n",
       "<style scoped>\n",
       "    .dataframe tbody tr th:only-of-type {\n",
       "        vertical-align: middle;\n",
       "    }\n",
       "\n",
       "    .dataframe tbody tr th {\n",
       "        vertical-align: top;\n",
       "    }\n",
       "\n",
       "    .dataframe thead th {\n",
       "        text-align: right;\n",
       "    }\n",
       "</style>\n",
       "<table border=\"1\" class=\"dataframe\">\n",
       "  <thead>\n",
       "    <tr style=\"text-align: right;\">\n",
       "      <th></th>\n",
       "      <th>Price</th>\n",
       "      <th>Grape Sort</th>\n",
       "      <th>Place</th>\n",
       "      <th>Avg Rating</th>\n",
       "      <th>Ratings</th>\n",
       "      <th>Product Volume</th>\n",
       "      <th>Alcohol %</th>\n",
       "      <th>Num of Critics</th>\n",
       "      <th>Avg. Critics rating</th>\n",
       "      <th>Wine Kind</th>\n",
       "      <th>Year</th>\n",
       "    </tr>\n",
       "  </thead>\n",
       "  <tbody>\n",
       "    <tr>\n",
       "      <th>0</th>\n",
       "      <td>19.98</td>\n",
       "      <td>Bordeaux Red Blends</td>\n",
       "      <td>Graves, Bordeaux, France</td>\n",
       "      <td>3.7</td>\n",
       "      <td>227.0</td>\n",
       "      <td>750.0</td>\n",
       "      <td>13.0</td>\n",
       "      <td>1.0</td>\n",
       "      <td>95.0</td>\n",
       "      <td>red</td>\n",
       "      <td>2018</td>\n",
       "    </tr>\n",
       "    <tr>\n",
       "      <th>1</th>\n",
       "      <td>89.99</td>\n",
       "      <td>Sangiovese</td>\n",
       "      <td>Montalcino, Tuscany, Italy</td>\n",
       "      <td>3.6</td>\n",
       "      <td>7.0</td>\n",
       "      <td>750.0</td>\n",
       "      <td>0.0</td>\n",
       "      <td>5.0</td>\n",
       "      <td>96.6</td>\n",
       "      <td>red</td>\n",
       "      <td>2016</td>\n",
       "    </tr>\n",
       "    <tr>\n",
       "      <th>2</th>\n",
       "      <td>89.99</td>\n",
       "      <td>Cabernet Sauvignon</td>\n",
       "      <td>Alexander Valley, Sonoma County, California</td>\n",
       "      <td>4.4</td>\n",
       "      <td>196.0</td>\n",
       "      <td>750.0</td>\n",
       "      <td>14.2</td>\n",
       "      <td>1.0</td>\n",
       "      <td>93.0</td>\n",
       "      <td>red</td>\n",
       "      <td>2017</td>\n",
       "    </tr>\n",
       "    <tr>\n",
       "      <th>3</th>\n",
       "      <td>69.99</td>\n",
       "      <td>Cabernet Sauvignon</td>\n",
       "      <td>Napa Valley, California</td>\n",
       "      <td>4.1</td>\n",
       "      <td>18.0</td>\n",
       "      <td>750.0</td>\n",
       "      <td>14.5</td>\n",
       "      <td>1.0</td>\n",
       "      <td>92.0</td>\n",
       "      <td>red</td>\n",
       "      <td>2019</td>\n",
       "    </tr>\n",
       "    <tr>\n",
       "      <th>4</th>\n",
       "      <td>129.99</td>\n",
       "      <td>Cabernet Sauvignon</td>\n",
       "      <td>Napa Valley, California</td>\n",
       "      <td>4.3</td>\n",
       "      <td>30.0</td>\n",
       "      <td>750.0</td>\n",
       "      <td>14.5</td>\n",
       "      <td>5.0</td>\n",
       "      <td>97.2</td>\n",
       "      <td>red</td>\n",
       "      <td>2018</td>\n",
       "    </tr>\n",
       "  </tbody>\n",
       "</table>\n",
       "</div>"
      ],
      "text/plain": [
       "    Price           Grape Sort                                        Place  \\\n",
       "0   19.98  Bordeaux Red Blends                     Graves, Bordeaux, France   \n",
       "1   89.99           Sangiovese                   Montalcino, Tuscany, Italy   \n",
       "2   89.99   Cabernet Sauvignon  Alexander Valley, Sonoma County, California   \n",
       "3   69.99   Cabernet Sauvignon                      Napa Valley, California   \n",
       "4  129.99   Cabernet Sauvignon                      Napa Valley, California   \n",
       "\n",
       "   Avg Rating  Ratings  Product Volume  Alcohol %  Num of Critics  \\\n",
       "0         3.7    227.0           750.0       13.0             1.0   \n",
       "1         3.6      7.0           750.0        0.0             5.0   \n",
       "2         4.4    196.0           750.0       14.2             1.0   \n",
       "3         4.1     18.0           750.0       14.5             1.0   \n",
       "4         4.3     30.0           750.0       14.5             5.0   \n",
       "\n",
       "   Avg. Critics rating Wine Kind  Year  \n",
       "0                 95.0       red  2018  \n",
       "1                 96.6       red  2016  \n",
       "2                 93.0       red  2017  \n",
       "3                 92.0       red  2019  \n",
       "4                 97.2       red  2018  "
      ]
     },
     "execution_count": 16,
     "metadata": {},
     "output_type": "execute_result"
    }
   ],
   "source": [
    "df_cat_num = df_rem_dup.drop(['Name','Winemaker Notes','Critical Acclaim','Wine link'],axis=1).copy()\n",
    "df_cat_num.head()"
   ]
  },
  {
   "cell_type": "markdown",
   "id": "daa83fa5",
   "metadata": {},
   "source": [
    "#### Remove rows with missing ratings and alcohol %:"
   ]
  },
  {
   "cell_type": "code",
   "execution_count": 17,
   "id": "d25ad189",
   "metadata": {},
   "outputs": [],
   "source": [
    "df_cat_num.loc[df_rem_dup['Ratings']==0.0,'Ratings'] = np.nan\n",
    "df_cat_num.loc[df_rem_dup['Avg Rating']==0.0,'Avg Rating'] = np.nan\n",
    "df_cat_num.loc[df_rem_dup['Alcohol %']==0.0,'Alcohol %'] = np.nan\n",
    "\n",
    "#df_rem_dup['Ratings'][df_rem_dup['Ratings']==0.0] = np.nan\n",
    "#df_rem_dup['Avg Rating'][df_rem_dup['Avg Rating']==0.0] = np.nan"
   ]
  },
  {
   "cell_type": "code",
   "execution_count": 18,
   "id": "9b446b79",
   "metadata": {},
   "outputs": [],
   "source": [
    "df_rem_zero_ratings = df_cat_num.dropna().copy()"
   ]
  },
  {
   "cell_type": "code",
   "execution_count": 19,
   "id": "a1430180",
   "metadata": {
    "scrolled": true
   },
   "outputs": [
    {
     "name": "stdout",
     "output_type": "stream",
     "text": [
      "<class 'pandas.core.frame.DataFrame'>\n",
      "Int64Index: 2977 entries, 0 to 10145\n",
      "Data columns (total 11 columns):\n",
      " #   Column               Non-Null Count  Dtype  \n",
      "---  ------               --------------  -----  \n",
      " 0   Price                2977 non-null   float64\n",
      " 1   Grape Sort           2977 non-null   object \n",
      " 2   Place                2977 non-null   object \n",
      " 3   Avg Rating           2977 non-null   float64\n",
      " 4   Ratings              2977 non-null   float64\n",
      " 5   Product Volume       2977 non-null   float64\n",
      " 6   Alcohol %            2977 non-null   float64\n",
      " 7   Num of Critics       2977 non-null   float64\n",
      " 8   Avg. Critics rating  2977 non-null   float64\n",
      " 9   Wine Kind            2977 non-null   object \n",
      " 10  Year                 2977 non-null   object \n",
      "dtypes: float64(7), object(4)\n",
      "memory usage: 279.1+ KB\n"
     ]
    }
   ],
   "source": [
    "df_rem_zero_ratings.info()"
   ]
  },
  {
   "cell_type": "markdown",
   "id": "43568add",
   "metadata": {},
   "source": [
    "### Convert types:"
   ]
  },
  {
   "cell_type": "code",
   "execution_count": 20,
   "id": "c01da712",
   "metadata": {
    "scrolled": false
   },
   "outputs": [],
   "source": [
    "df_rem_zero_ratings['Year'] = df_rem_zero_ratings['Year'].astype(int)\n",
    "df_rem_zero_ratings['Num of Critics'] = df_rem_zero_ratings['Num of Critics'].astype(int)\n",
    "df_rem_zero_ratings['Product Volume'] = df_rem_zero_ratings['Product Volume'].astype(int)"
   ]
  },
  {
   "cell_type": "code",
   "execution_count": 21,
   "id": "6503f224",
   "metadata": {},
   "outputs": [
    {
     "name": "stdout",
     "output_type": "stream",
     "text": [
      "<class 'pandas.core.frame.DataFrame'>\n",
      "Int64Index: 2977 entries, 0 to 10145\n",
      "Data columns (total 11 columns):\n",
      " #   Column               Non-Null Count  Dtype  \n",
      "---  ------               --------------  -----  \n",
      " 0   Price                2977 non-null   float64\n",
      " 1   Grape Sort           2977 non-null   object \n",
      " 2   Place                2977 non-null   object \n",
      " 3   Avg Rating           2977 non-null   float64\n",
      " 4   Ratings              2977 non-null   float64\n",
      " 5   Product Volume       2977 non-null   int32  \n",
      " 6   Alcohol %            2977 non-null   float64\n",
      " 7   Num of Critics       2977 non-null   int32  \n",
      " 8   Avg. Critics rating  2977 non-null   float64\n",
      " 9   Wine Kind            2977 non-null   object \n",
      " 10  Year                 2977 non-null   int32  \n",
      "dtypes: float64(5), int32(3), object(3)\n",
      "memory usage: 244.2+ KB\n"
     ]
    }
   ],
   "source": [
    "df_rem_zero_ratings.info()"
   ]
  },
  {
   "cell_type": "markdown",
   "id": "e77290b5",
   "metadata": {},
   "source": [
    "#### Avg Rating filling"
   ]
  },
  {
   "cell_type": "markdown",
   "id": "c1975f2e",
   "metadata": {
    "scrolled": true
   },
   "source": [
    "#to do\n",
    "max_Avg_Rating = df_rem_zero_ratings['Avg Rating'].max()\n",
    "max_Avg_Critics_rating = df_rem_zero_ratings['Avg. Critics rating'].max()\n",
    "min_Avg_Critics_rating = df_rem_zero_ratings['Avg. Critics rating'].min()\n",
    "Avg_Critics_rating_Range = max_Avg_Critics_rating-min_Avg_Critics_rating\n",
    "\n",
    "print(max_Avg_Rating)\n",
    "print(max_Avg_Critics_rating)\n",
    "print(min_Avg_Critics_rating)\n",
    "\n",
    "#df_rem_zero_ratings.head()\n",
    "\n",
    "#df_rem_zero_ratings['Avg Rating'].fillna()\n",
    "\n",
    "#df_rem_zero_ratings[df_rem_zero_ratings['Avg Rating'].isna()]\n",
    "#df_rem_zero_ratings[df_rem_zero_ratings['Avg. Critics rating']==df_rem_zero_ratings['Avg. Critics rating'].max()]"
   ]
  },
  {
   "cell_type": "markdown",
   "id": "4f954ca9",
   "metadata": {},
   "source": [
    "## Encoding categorical features:"
   ]
  },
  {
   "cell_type": "code",
   "execution_count": 22,
   "id": "88a2d611",
   "metadata": {},
   "outputs": [
    {
     "data": {
      "text/html": [
       "<div>\n",
       "<style scoped>\n",
       "    .dataframe tbody tr th:only-of-type {\n",
       "        vertical-align: middle;\n",
       "    }\n",
       "\n",
       "    .dataframe tbody tr th {\n",
       "        vertical-align: top;\n",
       "    }\n",
       "\n",
       "    .dataframe thead th {\n",
       "        text-align: right;\n",
       "    }\n",
       "</style>\n",
       "<table border=\"1\" class=\"dataframe\">\n",
       "  <thead>\n",
       "    <tr style=\"text-align: right;\">\n",
       "      <th></th>\n",
       "      <th>Price</th>\n",
       "      <th>Grape Sort</th>\n",
       "      <th>Place</th>\n",
       "      <th>Avg Rating</th>\n",
       "      <th>Ratings</th>\n",
       "      <th>Product Volume</th>\n",
       "      <th>Alcohol %</th>\n",
       "      <th>Num of Critics</th>\n",
       "      <th>Avg. Critics rating</th>\n",
       "      <th>Wine Kind</th>\n",
       "      <th>Year</th>\n",
       "    </tr>\n",
       "  </thead>\n",
       "  <tbody>\n",
       "    <tr>\n",
       "      <th>0</th>\n",
       "      <td>19.98</td>\n",
       "      <td>Bordeaux Red Blends</td>\n",
       "      <td>Graves, Bordeaux, France</td>\n",
       "      <td>3.7</td>\n",
       "      <td>227.0</td>\n",
       "      <td>750</td>\n",
       "      <td>13.0</td>\n",
       "      <td>1</td>\n",
       "      <td>95.000000</td>\n",
       "      <td>red</td>\n",
       "      <td>2018</td>\n",
       "    </tr>\n",
       "    <tr>\n",
       "      <th>2</th>\n",
       "      <td>89.99</td>\n",
       "      <td>Cabernet Sauvignon</td>\n",
       "      <td>Alexander Valley, Sonoma County, California</td>\n",
       "      <td>4.4</td>\n",
       "      <td>196.0</td>\n",
       "      <td>750</td>\n",
       "      <td>14.2</td>\n",
       "      <td>1</td>\n",
       "      <td>93.000000</td>\n",
       "      <td>red</td>\n",
       "      <td>2017</td>\n",
       "    </tr>\n",
       "    <tr>\n",
       "      <th>3</th>\n",
       "      <td>69.99</td>\n",
       "      <td>Cabernet Sauvignon</td>\n",
       "      <td>Napa Valley, California</td>\n",
       "      <td>4.1</td>\n",
       "      <td>18.0</td>\n",
       "      <td>750</td>\n",
       "      <td>14.5</td>\n",
       "      <td>1</td>\n",
       "      <td>92.000000</td>\n",
       "      <td>red</td>\n",
       "      <td>2019</td>\n",
       "    </tr>\n",
       "    <tr>\n",
       "      <th>4</th>\n",
       "      <td>129.99</td>\n",
       "      <td>Cabernet Sauvignon</td>\n",
       "      <td>Napa Valley, California</td>\n",
       "      <td>4.3</td>\n",
       "      <td>30.0</td>\n",
       "      <td>750</td>\n",
       "      <td>14.5</td>\n",
       "      <td>5</td>\n",
       "      <td>97.200000</td>\n",
       "      <td>red</td>\n",
       "      <td>2018</td>\n",
       "    </tr>\n",
       "    <tr>\n",
       "      <th>5</th>\n",
       "      <td>184.99</td>\n",
       "      <td>Bordeaux Red Blends</td>\n",
       "      <td>Pauillac, Bordeaux, France</td>\n",
       "      <td>4.4</td>\n",
       "      <td>101.0</td>\n",
       "      <td>750</td>\n",
       "      <td>13.5</td>\n",
       "      <td>6</td>\n",
       "      <td>97.666667</td>\n",
       "      <td>red</td>\n",
       "      <td>2016</td>\n",
       "    </tr>\n",
       "  </tbody>\n",
       "</table>\n",
       "</div>"
      ],
      "text/plain": [
       "    Price           Grape Sort                                        Place  \\\n",
       "0   19.98  Bordeaux Red Blends                     Graves, Bordeaux, France   \n",
       "2   89.99   Cabernet Sauvignon  Alexander Valley, Sonoma County, California   \n",
       "3   69.99   Cabernet Sauvignon                      Napa Valley, California   \n",
       "4  129.99   Cabernet Sauvignon                      Napa Valley, California   \n",
       "5  184.99  Bordeaux Red Blends                   Pauillac, Bordeaux, France   \n",
       "\n",
       "   Avg Rating  Ratings  Product Volume  Alcohol %  Num of Critics  \\\n",
       "0         3.7    227.0             750       13.0               1   \n",
       "2         4.4    196.0             750       14.2               1   \n",
       "3         4.1     18.0             750       14.5               1   \n",
       "4         4.3     30.0             750       14.5               5   \n",
       "5         4.4    101.0             750       13.5               6   \n",
       "\n",
       "   Avg. Critics rating Wine Kind  Year  \n",
       "0            95.000000       red  2018  \n",
       "2            93.000000       red  2017  \n",
       "3            92.000000       red  2019  \n",
       "4            97.200000       red  2018  \n",
       "5            97.666667       red  2016  "
      ]
     },
     "execution_count": 22,
     "metadata": {},
     "output_type": "execute_result"
    }
   ],
   "source": [
    "df_rem_zero_ratings.head()"
   ]
  },
  {
   "cell_type": "code",
   "execution_count": 23,
   "id": "664a9104",
   "metadata": {
    "scrolled": true
   },
   "outputs": [],
   "source": [
    "df_encoded = encode_categorical(df_rem_zero_ratings)"
   ]
  },
  {
   "cell_type": "code",
   "execution_count": 24,
   "id": "ee7fd6d1",
   "metadata": {},
   "outputs": [
    {
     "data": {
      "text/html": [
       "<div>\n",
       "<style scoped>\n",
       "    .dataframe tbody tr th:only-of-type {\n",
       "        vertical-align: middle;\n",
       "    }\n",
       "\n",
       "    .dataframe tbody tr th {\n",
       "        vertical-align: top;\n",
       "    }\n",
       "\n",
       "    .dataframe thead th {\n",
       "        text-align: right;\n",
       "    }\n",
       "</style>\n",
       "<table border=\"1\" class=\"dataframe\">\n",
       "  <thead>\n",
       "    <tr style=\"text-align: right;\">\n",
       "      <th></th>\n",
       "      <th>Price</th>\n",
       "      <th>Grape Sort</th>\n",
       "      <th>Place</th>\n",
       "      <th>Avg Rating</th>\n",
       "      <th>Ratings</th>\n",
       "      <th>Product Volume</th>\n",
       "      <th>Alcohol %</th>\n",
       "      <th>Num of Critics</th>\n",
       "      <th>Avg. Critics rating</th>\n",
       "      <th>Wine Kind</th>\n",
       "      <th>Year</th>\n",
       "    </tr>\n",
       "  </thead>\n",
       "  <tbody>\n",
       "    <tr>\n",
       "      <th>0</th>\n",
       "      <td>19.98</td>\n",
       "      <td>10</td>\n",
       "      <td>113</td>\n",
       "      <td>3.7</td>\n",
       "      <td>227.0</td>\n",
       "      <td>750</td>\n",
       "      <td>13.0</td>\n",
       "      <td>1</td>\n",
       "      <td>95.000000</td>\n",
       "      <td>0</td>\n",
       "      <td>2018</td>\n",
       "    </tr>\n",
       "    <tr>\n",
       "      <th>2</th>\n",
       "      <td>89.99</td>\n",
       "      <td>13</td>\n",
       "      <td>7</td>\n",
       "      <td>4.4</td>\n",
       "      <td>196.0</td>\n",
       "      <td>750</td>\n",
       "      <td>14.2</td>\n",
       "      <td>1</td>\n",
       "      <td>93.000000</td>\n",
       "      <td>0</td>\n",
       "      <td>2017</td>\n",
       "    </tr>\n",
       "    <tr>\n",
       "      <th>3</th>\n",
       "      <td>69.99</td>\n",
       "      <td>13</td>\n",
       "      <td>180</td>\n",
       "      <td>4.1</td>\n",
       "      <td>18.0</td>\n",
       "      <td>750</td>\n",
       "      <td>14.5</td>\n",
       "      <td>1</td>\n",
       "      <td>92.000000</td>\n",
       "      <td>0</td>\n",
       "      <td>2019</td>\n",
       "    </tr>\n",
       "    <tr>\n",
       "      <th>4</th>\n",
       "      <td>129.99</td>\n",
       "      <td>13</td>\n",
       "      <td>180</td>\n",
       "      <td>4.3</td>\n",
       "      <td>30.0</td>\n",
       "      <td>750</td>\n",
       "      <td>14.5</td>\n",
       "      <td>5</td>\n",
       "      <td>97.200000</td>\n",
       "      <td>0</td>\n",
       "      <td>2018</td>\n",
       "    </tr>\n",
       "    <tr>\n",
       "      <th>5</th>\n",
       "      <td>184.99</td>\n",
       "      <td>10</td>\n",
       "      <td>193</td>\n",
       "      <td>4.4</td>\n",
       "      <td>101.0</td>\n",
       "      <td>750</td>\n",
       "      <td>13.5</td>\n",
       "      <td>6</td>\n",
       "      <td>97.666667</td>\n",
       "      <td>0</td>\n",
       "      <td>2016</td>\n",
       "    </tr>\n",
       "  </tbody>\n",
       "</table>\n",
       "</div>"
      ],
      "text/plain": [
       "    Price  Grape Sort  Place  Avg Rating  Ratings  Product Volume  Alcohol %  \\\n",
       "0   19.98          10    113         3.7    227.0             750       13.0   \n",
       "2   89.99          13      7         4.4    196.0             750       14.2   \n",
       "3   69.99          13    180         4.1     18.0             750       14.5   \n",
       "4  129.99          13    180         4.3     30.0             750       14.5   \n",
       "5  184.99          10    193         4.4    101.0             750       13.5   \n",
       "\n",
       "   Num of Critics  Avg. Critics rating  Wine Kind  Year  \n",
       "0               1            95.000000          0  2018  \n",
       "2               1            93.000000          0  2017  \n",
       "3               1            92.000000          0  2019  \n",
       "4               5            97.200000          0  2018  \n",
       "5               6            97.666667          0  2016  "
      ]
     },
     "execution_count": 24,
     "metadata": {},
     "output_type": "execute_result"
    }
   ],
   "source": [
    "df_encoded.head()"
   ]
  },
  {
   "cell_type": "code",
   "execution_count": 25,
   "id": "05a072ef",
   "metadata": {},
   "outputs": [
    {
     "name": "stdout",
     "output_type": "stream",
     "text": [
      "<class 'pandas.core.frame.DataFrame'>\n",
      "Int64Index: 2977 entries, 0 to 10145\n",
      "Data columns (total 11 columns):\n",
      " #   Column               Non-Null Count  Dtype  \n",
      "---  ------               --------------  -----  \n",
      " 0   Price                2977 non-null   float64\n",
      " 1   Grape Sort           2977 non-null   int32  \n",
      " 2   Place                2977 non-null   int32  \n",
      " 3   Avg Rating           2977 non-null   float64\n",
      " 4   Ratings              2977 non-null   float64\n",
      " 5   Product Volume       2977 non-null   int32  \n",
      " 6   Alcohol %            2977 non-null   float64\n",
      " 7   Num of Critics       2977 non-null   int32  \n",
      " 8   Avg. Critics rating  2977 non-null   float64\n",
      " 9   Wine Kind            2977 non-null   int32  \n",
      " 10  Year                 2977 non-null   int32  \n",
      "dtypes: float64(5), int32(6)\n",
      "memory usage: 209.3 KB\n"
     ]
    }
   ],
   "source": [
    "df_encoded.info()"
   ]
  },
  {
   "cell_type": "code",
   "execution_count": 26,
   "id": "c60516ae",
   "metadata": {},
   "outputs": [
    {
     "name": "stdout",
     "output_type": "stream",
     "text": [
      "number of unique prod. volume:5\n",
      "number of unique Places:306\n"
     ]
    }
   ],
   "source": [
    "print(f\"number of unique prod. volume:{len(pd.unique(df_encoded['Product Volume']))}\")\n",
    "print(f\"number of unique Places:{len(pd.unique(df_encoded['Place']))}\")"
   ]
  },
  {
   "cell_type": "markdown",
   "id": "d32f08d2",
   "metadata": {},
   "source": [
    "# Prediction:"
   ]
  },
  {
   "cell_type": "code",
   "execution_count": 32,
   "id": "2d691922",
   "metadata": {},
   "outputs": [],
   "source": [
    "X_train, X_test, y_train, y_test = train_test_split(df_encoded.drop(\"Price\",axis=1),df_encoded[\"Price\"],random_state=42)"
   ]
  },
  {
   "cell_type": "code",
   "execution_count": 33,
   "id": "014aa725",
   "metadata": {},
   "outputs": [
    {
     "data": {
      "text/html": [
       "<div>\n",
       "<style scoped>\n",
       "    .dataframe tbody tr th:only-of-type {\n",
       "        vertical-align: middle;\n",
       "    }\n",
       "\n",
       "    .dataframe tbody tr th {\n",
       "        vertical-align: top;\n",
       "    }\n",
       "\n",
       "    .dataframe thead th {\n",
       "        text-align: right;\n",
       "    }\n",
       "</style>\n",
       "<table border=\"1\" class=\"dataframe\">\n",
       "  <thead>\n",
       "    <tr style=\"text-align: right;\">\n",
       "      <th></th>\n",
       "      <th>Grape Sort</th>\n",
       "      <th>Place</th>\n",
       "      <th>Avg Rating</th>\n",
       "      <th>Ratings</th>\n",
       "      <th>Product Volume</th>\n",
       "      <th>Alcohol %</th>\n",
       "      <th>Num of Critics</th>\n",
       "      <th>Avg. Critics rating</th>\n",
       "      <th>Wine Kind</th>\n",
       "      <th>Year</th>\n",
       "    </tr>\n",
       "  </thead>\n",
       "  <tbody>\n",
       "    <tr>\n",
       "      <th>1850</th>\n",
       "      <td>50</td>\n",
       "      <td>89</td>\n",
       "      <td>3.9</td>\n",
       "      <td>29.0</td>\n",
       "      <td>750</td>\n",
       "      <td>13.0</td>\n",
       "      <td>1</td>\n",
       "      <td>91.0</td>\n",
       "      <td>0</td>\n",
       "      <td>2018</td>\n",
       "    </tr>\n",
       "    <tr>\n",
       "      <th>9054</th>\n",
       "      <td>67</td>\n",
       "      <td>2</td>\n",
       "      <td>4.1</td>\n",
       "      <td>8.0</td>\n",
       "      <td>750</td>\n",
       "      <td>13.3</td>\n",
       "      <td>1</td>\n",
       "      <td>93.0</td>\n",
       "      <td>1</td>\n",
       "      <td>2019</td>\n",
       "    </tr>\n",
       "    <tr>\n",
       "      <th>8993</th>\n",
       "      <td>67</td>\n",
       "      <td>170</td>\n",
       "      <td>3.9</td>\n",
       "      <td>49.0</td>\n",
       "      <td>750</td>\n",
       "      <td>13.0</td>\n",
       "      <td>1</td>\n",
       "      <td>89.0</td>\n",
       "      <td>1</td>\n",
       "      <td>2019</td>\n",
       "    </tr>\n",
       "    <tr>\n",
       "      <th>3967</th>\n",
       "      <td>66</td>\n",
       "      <td>179</td>\n",
       "      <td>3.9</td>\n",
       "      <td>22.0</td>\n",
       "      <td>750</td>\n",
       "      <td>11.0</td>\n",
       "      <td>2</td>\n",
       "      <td>91.5</td>\n",
       "      <td>3</td>\n",
       "      <td>2019</td>\n",
       "    </tr>\n",
       "    <tr>\n",
       "      <th>5449</th>\n",
       "      <td>69</td>\n",
       "      <td>226</td>\n",
       "      <td>4.2</td>\n",
       "      <td>39.0</td>\n",
       "      <td>750</td>\n",
       "      <td>14.0</td>\n",
       "      <td>2</td>\n",
       "      <td>91.5</td>\n",
       "      <td>3</td>\n",
       "      <td>2018</td>\n",
       "    </tr>\n",
       "  </tbody>\n",
       "</table>\n",
       "</div>"
      ],
      "text/plain": [
       "      Grape Sort  Place  Avg Rating  Ratings  Product Volume  Alcohol %  \\\n",
       "1850          50     89         3.9     29.0             750       13.0   \n",
       "9054          67      2         4.1      8.0             750       13.3   \n",
       "8993          67    170         3.9     49.0             750       13.0   \n",
       "3967          66    179         3.9     22.0             750       11.0   \n",
       "5449          69    226         4.2     39.0             750       14.0   \n",
       "\n",
       "      Num of Critics  Avg. Critics rating  Wine Kind  Year  \n",
       "1850               1                 91.0          0  2018  \n",
       "9054               1                 93.0          1  2019  \n",
       "8993               1                 89.0          1  2019  \n",
       "3967               2                 91.5          3  2019  \n",
       "5449               2                 91.5          3  2018  "
      ]
     },
     "execution_count": 33,
     "metadata": {},
     "output_type": "execute_result"
    }
   ],
   "source": [
    "X_train.head()"
   ]
  },
  {
   "cell_type": "code",
   "execution_count": 35,
   "id": "37244a83",
   "metadata": {},
   "outputs": [
    {
     "data": {
      "text/html": [
       "<div>\n",
       "<style scoped>\n",
       "    .dataframe tbody tr th:only-of-type {\n",
       "        vertical-align: middle;\n",
       "    }\n",
       "\n",
       "    .dataframe tbody tr th {\n",
       "        vertical-align: top;\n",
       "    }\n",
       "\n",
       "    .dataframe thead th {\n",
       "        text-align: right;\n",
       "    }\n",
       "</style>\n",
       "<table border=\"1\" class=\"dataframe\">\n",
       "  <thead>\n",
       "    <tr style=\"text-align: right;\">\n",
       "      <th></th>\n",
       "      <th>Grape Sort</th>\n",
       "      <th>Place</th>\n",
       "      <th>Avg Rating</th>\n",
       "      <th>Ratings</th>\n",
       "      <th>Product Volume</th>\n",
       "      <th>Alcohol %</th>\n",
       "      <th>Num of Critics</th>\n",
       "      <th>Avg. Critics rating</th>\n",
       "      <th>Wine Kind</th>\n",
       "      <th>Year</th>\n",
       "    </tr>\n",
       "  </thead>\n",
       "  <tbody>\n",
       "    <tr>\n",
       "      <th>1850</th>\n",
       "      <td>0.018400</td>\n",
       "      <td>-0.695603</td>\n",
       "      <td>-0.206065</td>\n",
       "      <td>-0.105345</td>\n",
       "      <td>-0.023748</td>\n",
       "      <td>-0.366937</td>\n",
       "      <td>-0.726644</td>\n",
       "      <td>-0.280823</td>\n",
       "      <td>-1.128118</td>\n",
       "      <td>0.096888</td>\n",
       "    </tr>\n",
       "    <tr>\n",
       "      <th>9054</th>\n",
       "      <td>0.685869</td>\n",
       "      <td>-1.701951</td>\n",
       "      <td>0.276555</td>\n",
       "      <td>-0.372525</td>\n",
       "      <td>-0.023748</td>\n",
       "      <td>-0.091345</td>\n",
       "      <td>-0.726644</td>\n",
       "      <td>0.843528</td>\n",
       "      <td>-0.354789</td>\n",
       "      <td>0.129276</td>\n",
       "    </tr>\n",
       "    <tr>\n",
       "      <th>8993</th>\n",
       "      <td>0.685869</td>\n",
       "      <td>0.241341</td>\n",
       "      <td>-0.206065</td>\n",
       "      <td>0.149112</td>\n",
       "      <td>-0.023748</td>\n",
       "      <td>-0.366937</td>\n",
       "      <td>-0.726644</td>\n",
       "      <td>-1.405173</td>\n",
       "      <td>-0.354789</td>\n",
       "      <td>0.129276</td>\n",
       "    </tr>\n",
       "    <tr>\n",
       "      <th>3967</th>\n",
       "      <td>0.646606</td>\n",
       "      <td>0.345446</td>\n",
       "      <td>-0.206065</td>\n",
       "      <td>-0.194405</td>\n",
       "      <td>-0.023748</td>\n",
       "      <td>-2.204216</td>\n",
       "      <td>0.010234</td>\n",
       "      <td>0.000265</td>\n",
       "      <td>1.191869</td>\n",
       "      <td>0.129276</td>\n",
       "    </tr>\n",
       "    <tr>\n",
       "      <th>5449</th>\n",
       "      <td>0.764395</td>\n",
       "      <td>0.889105</td>\n",
       "      <td>0.517865</td>\n",
       "      <td>0.021883</td>\n",
       "      <td>-0.023748</td>\n",
       "      <td>0.551702</td>\n",
       "      <td>0.010234</td>\n",
       "      <td>0.000265</td>\n",
       "      <td>1.191869</td>\n",
       "      <td>0.096888</td>\n",
       "    </tr>\n",
       "  </tbody>\n",
       "</table>\n",
       "</div>"
      ],
      "text/plain": [
       "      Grape Sort     Place  Avg Rating   Ratings  Product Volume  Alcohol %  \\\n",
       "1850    0.018400 -0.695603   -0.206065 -0.105345       -0.023748  -0.366937   \n",
       "9054    0.685869 -1.701951    0.276555 -0.372525       -0.023748  -0.091345   \n",
       "8993    0.685869  0.241341   -0.206065  0.149112       -0.023748  -0.366937   \n",
       "3967    0.646606  0.345446   -0.206065 -0.194405       -0.023748  -2.204216   \n",
       "5449    0.764395  0.889105    0.517865  0.021883       -0.023748   0.551702   \n",
       "\n",
       "      Num of Critics  Avg. Critics rating  Wine Kind      Year  \n",
       "1850       -0.726644            -0.280823  -1.128118  0.096888  \n",
       "9054       -0.726644             0.843528  -0.354789  0.129276  \n",
       "8993       -0.726644            -1.405173  -0.354789  0.129276  \n",
       "3967        0.010234             0.000265   1.191869  0.129276  \n",
       "5449        0.010234             0.000265   1.191869  0.096888  "
      ]
     },
     "execution_count": 35,
     "metadata": {},
     "output_type": "execute_result"
    }
   ],
   "source": [
    "X_train = scale(X_train,scaler_kind='StandardScaler')\n",
    "X_train.head()"
   ]
  },
  {
   "cell_type": "code",
   "execution_count": 36,
   "id": "247666e7",
   "metadata": {},
   "outputs": [
    {
     "data": {
      "text/html": [
       "<div>\n",
       "<style scoped>\n",
       "    .dataframe tbody tr th:only-of-type {\n",
       "        vertical-align: middle;\n",
       "    }\n",
       "\n",
       "    .dataframe tbody tr th {\n",
       "        vertical-align: top;\n",
       "    }\n",
       "\n",
       "    .dataframe thead th {\n",
       "        text-align: right;\n",
       "    }\n",
       "</style>\n",
       "<table border=\"1\" class=\"dataframe\">\n",
       "  <thead>\n",
       "    <tr style=\"text-align: right;\">\n",
       "      <th></th>\n",
       "      <th>Grape Sort</th>\n",
       "      <th>Place</th>\n",
       "      <th>Avg Rating</th>\n",
       "      <th>Ratings</th>\n",
       "      <th>Product Volume</th>\n",
       "      <th>Alcohol %</th>\n",
       "      <th>Num of Critics</th>\n",
       "      <th>Avg. Critics rating</th>\n",
       "      <th>Wine Kind</th>\n",
       "      <th>Year</th>\n",
       "    </tr>\n",
       "  </thead>\n",
       "  <tbody>\n",
       "    <tr>\n",
       "      <th>8412</th>\n",
       "      <td>0.824677</td>\n",
       "      <td>-1.091494</td>\n",
       "      <td>1.378251</td>\n",
       "      <td>-0.401544</td>\n",
       "      <td>0.0</td>\n",
       "      <td>-1.079177</td>\n",
       "      <td>0.614698</td>\n",
       "      <td>2.176988</td>\n",
       "      <td>0.482419</td>\n",
       "      <td>-0.058069</td>\n",
       "    </tr>\n",
       "    <tr>\n",
       "      <th>9670</th>\n",
       "      <td>0.665210</td>\n",
       "      <td>-0.246703</td>\n",
       "      <td>1.134992</td>\n",
       "      <td>-0.467345</td>\n",
       "      <td>0.0</td>\n",
       "      <td>-0.684636</td>\n",
       "      <td>-0.736187</td>\n",
       "      <td>-0.304136</td>\n",
       "      <td>-0.297195</td>\n",
       "      <td>0.131792</td>\n",
       "    </tr>\n",
       "    <tr>\n",
       "      <th>5551</th>\n",
       "      <td>-1.567319</td>\n",
       "      <td>-0.385573</td>\n",
       "      <td>-0.081304</td>\n",
       "      <td>-0.269941</td>\n",
       "      <td>0.0</td>\n",
       "      <td>-0.290096</td>\n",
       "      <td>1.965583</td>\n",
       "      <td>-0.091468</td>\n",
       "      <td>1.262032</td>\n",
       "      <td>0.077546</td>\n",
       "    </tr>\n",
       "    <tr>\n",
       "      <th>3561</th>\n",
       "      <td>0.744943</td>\n",
       "      <td>0.459217</td>\n",
       "      <td>0.405214</td>\n",
       "      <td>-0.434445</td>\n",
       "      <td>0.0</td>\n",
       "      <td>0.656801</td>\n",
       "      <td>-0.736187</td>\n",
       "      <td>-0.835805</td>\n",
       "      <td>1.262032</td>\n",
       "      <td>0.186038</td>\n",
       "    </tr>\n",
       "    <tr>\n",
       "      <th>2499</th>\n",
       "      <td>0.545610</td>\n",
       "      <td>-1.068349</td>\n",
       "      <td>-0.324563</td>\n",
       "      <td>-0.237040</td>\n",
       "      <td>0.0</td>\n",
       "      <td>0.893526</td>\n",
       "      <td>-0.060745</td>\n",
       "      <td>-0.569970</td>\n",
       "      <td>-1.076809</td>\n",
       "      <td>0.104669</td>\n",
       "    </tr>\n",
       "  </tbody>\n",
       "</table>\n",
       "</div>"
      ],
      "text/plain": [
       "      Grape Sort     Place  Avg Rating   Ratings  Product Volume  Alcohol %  \\\n",
       "8412    0.824677 -1.091494    1.378251 -0.401544             0.0  -1.079177   \n",
       "9670    0.665210 -0.246703    1.134992 -0.467345             0.0  -0.684636   \n",
       "5551   -1.567319 -0.385573   -0.081304 -0.269941             0.0  -0.290096   \n",
       "3561    0.744943  0.459217    0.405214 -0.434445             0.0   0.656801   \n",
       "2499    0.545610 -1.068349   -0.324563 -0.237040             0.0   0.893526   \n",
       "\n",
       "      Num of Critics  Avg. Critics rating  Wine Kind      Year  \n",
       "8412        0.614698             2.176988   0.482419 -0.058069  \n",
       "9670       -0.736187            -0.304136  -0.297195  0.131792  \n",
       "5551        1.965583            -0.091468   1.262032  0.077546  \n",
       "3561       -0.736187            -0.835805   1.262032  0.186038  \n",
       "2499       -0.060745            -0.569970  -1.076809  0.104669  "
      ]
     },
     "execution_count": 36,
     "metadata": {},
     "output_type": "execute_result"
    }
   ],
   "source": [
    "X_test = scale(X_test,scaler_kind='StandardScaler')\n",
    "X_test.head()"
   ]
  },
  {
   "cell_type": "code",
   "execution_count": 37,
   "id": "9c17165d",
   "metadata": {},
   "outputs": [],
   "source": [
    "regressor = LinearRegression()"
   ]
  },
  {
   "cell_type": "code",
   "execution_count": 39,
   "id": "496823f7",
   "metadata": {},
   "outputs": [
    {
     "data": {
      "text/plain": [
       "LinearRegression()"
      ]
     },
     "execution_count": 39,
     "metadata": {},
     "output_type": "execute_result"
    }
   ],
   "source": [
    "regressor.fit(X_train,y_train)"
   ]
  },
  {
   "cell_type": "code",
   "execution_count": 40,
   "id": "b9c7037f",
   "metadata": {},
   "outputs": [],
   "source": [
    "y_pred = regressor.predict(X_test)"
   ]
  },
  {
   "cell_type": "code",
   "execution_count": 41,
   "id": "a32233fe",
   "metadata": {},
   "outputs": [
    {
     "name": "stderr",
     "output_type": "stream",
     "text": [
      "D:\\Progs\\Anaconda\\lib\\site-packages\\seaborn\\_decorators.py:36: FutureWarning: Pass the following variables as keyword args: x, y. From version 0.12, the only valid positional argument will be `data`, and passing other arguments without an explicit keyword will result in an error or misinterpretation.\n",
      "  warnings.warn(\n"
     ]
    },
    {
     "data": {
      "text/plain": [
       "<AxesSubplot:xlabel='Price'>"
      ]
     },
     "execution_count": 41,
     "metadata": {},
     "output_type": "execute_result"
    },
    {
     "data": {
      "image/png": "[encoded data removed]",
      "text/plain": [
       "<Figure size 432x288 with 1 Axes>"
      ]
     },
     "metadata": {
      "needs_background": "light"
     },
     "output_type": "display_data"
    }
   ],
   "source": [
    "sns.regplot(y_test,y_pred)"
   ]
  },
  {
   "cell_type": "code",
   "execution_count": 43,
   "id": "911d771a",
   "metadata": {},
   "outputs": [
    {
     "name": "stdout",
     "output_type": "stream",
     "text": [
      "r^2:0.49419541852757254\n",
      "mse:2552.84726771493\n"
     ]
    }
   ],
   "source": [
    "print(f\"r^2:{metrics.r2_score(y_test,y_pred)}\")\n",
    "print(f\"mse:{metrics.mean_squared_error(y_test,y_pred)}\")"
   ]
  }
 ],
 "metadata": {
  "kernelspec": {
   "display_name": "Python 3 (ipykernel)",
   "language": "python",
   "name": "python3"
  },
  "language_info": {
   "codemirror_mode": {
    "name": "ipython",
    "version": 3
   },
   "file_extension": ".py",
   "mimetype": "text/x-python",
   "name": "python",
   "nbconvert_exporter": "python",
   "pygments_lexer": "ipython3",
   "version": "3.9.7"
  }
 },
 "nbformat": 4,
 "nbformat_minor": 5
}
